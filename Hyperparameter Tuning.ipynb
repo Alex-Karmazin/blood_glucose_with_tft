{
 "cells": [
  {
   "cell_type": "code",
   "execution_count": 1,
   "id": "8447b79c",
   "metadata": {},
   "outputs": [
    {
     "name": "stdout",
     "output_type": "stream",
     "text": [
      "env: PYTORCH_ENABLE_MPS_FALLBACK=1\n"
     ]
    }
   ],
   "source": [
    "# Install necessary packages\n",
    "# !pip install optuna darts chardet seaborn tqdm\n",
    "# !pip install tensorboard\n",
    "\n",
    "# Set environment variables and load extensions\n",
    "%set_env PYTORCH_ENABLE_MPS_FALLBACK=1\n",
    "%load_ext autoreload\n",
    "%autoreload 2\n",
    "%matplotlib inline\n",
    "# %load_ext tensorboard \n",
    "# %tensorboard --logdir darts_logs --port 6007\n",
    "\n",
    "# Import necessary libraries\n",
    "import pandas as pd\n",
    "import numpy as np\n",
    "from tqdm import tqdm_notebook as tqdm\n",
    "import seaborn as sns\n",
    "import matplotlib.pyplot as plt\n",
    "import os\n",
    "from darts import TimeSeries, concatenate\n",
    "from darts.dataprocessing.transformers import Scaler\n",
    "from darts.models import TFTModel\n",
    "from darts.metrics import mape\n",
    "from darts.utils.statistics import check_seasonality, plot_acf\n",
    "from darts.datasets import AirPassengersDataset, IceCreamHeaterDataset\n",
    "from darts.utils.timeseries_generation import datetime_attribute_timeseries\n",
    "from darts.utils.likelihood_models import QuantileRegression\n",
    "from darts.metrics import mape, rmse\n",
    "import warnings\n",
    "import optuna\n",
    "import torch\n",
    "from optuna.integration import PyTorchLightningPruningCallback\n",
    "from pytorch_lightning.callbacks import EarlyStopping\n",
    "from sklearn.preprocessing import MaxAbsScaler\n",
    "from darts.metrics import smape\n",
    "from darts.utils.likelihood_models import GaussianLikelihood\n",
    "warnings.filterwarnings(\"ignore\")\n",
    "import logging\n",
    "logging.disable(logging.CRITICAL)\n"
   ]
  },
  {
   "cell_type": "code",
   "execution_count": 2,
   "id": "a716fa3b",
   "metadata": {},
   "outputs": [
    {
     "data": {
      "text/plain": [
       "<torch._C.Generator at 0x14745ca90>"
      ]
     },
     "execution_count": 2,
     "metadata": {},
     "output_type": "execute_result"
    }
   ],
   "source": [
    "\n",
    "# Constants definition\n",
    "HIDDEN = 64\n",
    "VALWAIT = 1\n",
    "RAND = 42\n",
    "N_SAMPLES = 100\n",
    "QUANTILES = [0.01, 0.1, 0.2, 0.5, 0.8, 0.9, 0.99]\n",
    "SPLIT = 0.9\n",
    "FIGSIZE = (9, 6)\n",
    "qL1, qL2 = 0.01, 0.10\n",
    "qU1, qU2 = 1-qL1, 1-qL2\n",
    "label_q1 = f'{int(qU1 * 100)} / {int(qL1 * 100)} percentile band'\n",
    "label_q2 = f'{int(qU2 * 100)} / {int(qL2 * 100)} percentile band'\n",
    "torch.manual_seed(RAND)\n"
   ]
  },
  {
   "cell_type": "code",
   "execution_count": 3,
   "id": "f1ce1335",
   "metadata": {},
   "outputs": [],
   "source": [
    "\n",
    "# Data preprocessing function\n",
    "def preprocess_data(file_path):\n",
    "    df = pd.read_csv(file_path)\n",
    "    df.rename(columns={\"date_time\": \"datetime_col\"}, inplace=True)\n",
    "    df['datetime_col'] = pd.to_datetime(df['datetime_col'])\n",
    "    df['bolus'] = df['bolus'].astype('float32')\n",
    "    df['carbs'] = df['carbs'].astype('float32')\n",
    "    df['insulin_on_board'] = df['insulin_on_board'].astype('float32')\n",
    "    int_columns = df.select_dtypes(include=['float64']).columns\n",
    "    df[int_columns] = df[int_columns].astype('float32')\n",
    "    return df\n",
    "\n",
    "# Data loading and preprocessing\n",
    "file_path = 't1d_glucose_data.csv'\n",
    "data = preprocess_data(file_path)\n",
    "\n",
    "# Time series object creation for target variable\n",
    "ts_P = TimeSeries.from_dataframe(data, 'datetime_col', 'glucose_value', freq='5T')\n",
    "df_covF = data.loc[:, data.columns != \"glucose_value\"]\n",
    "ts_covF = TimeSeries.from_dataframe(df_covF, 'datetime_col', freq='5T')\n",
    "train_size = int(len(ts_P) * SPLIT)\n",
    "split_timestamp = data.iloc[train_size]['datetime_col']\n",
    "ts_train, ts_temp = ts_P.split_after(pd.Timestamp(split_timestamp))\n",
    "test_size = int(len(ts_temp) * 0.5)\n",
    "split_timestamp_test = data.iloc[train_size + test_size]['datetime_col']\n",
    "ts_test, ts_hold_out = ts_temp.split_after(pd.Timestamp(split_timestamp_test))\n",
    "\n",
    "# Data scaling\n",
    "scalerP = Scaler()\n",
    "scalerP.fit_transform(ts_train)\n",
    "ts_ttrain = scalerP.transform(ts_train)\n",
    "ts_ttest = scalerP.transform(ts_test)    \n",
    "ts_t = scalerP.transform(ts_P)\n",
    "ts_hold_out_scaled = scalerP.transform(ts_hold_out)\n",
    "ts_t = ts_t.astype(np.float32)\n",
    "ts_ttrain = ts_ttrain.astype(np.float32)\n",
    "ts_ttest = ts_ttest.astype(np.float32)\n",
    "ts_hold_out_scaled = ts_hold_out_scaled.astype(np.float32)\n",
    "\n",
    "# Feature covariates split and scaling\n",
    "covF_train, covF_test = ts_covF.split_after(SPLIT)\n",
    "scalerF = Scaler()\n",
    "scalerF.fit_transform(covF_train)\n",
    "covF_ttrain = scalerF.transform(covF_train) \n",
    "covF_ttest = scalerF.transform(covF_test)   \n",
    "covF_t = scalerF.transform(ts_covF)  \n",
    "covF_ttrain = covF_ttrain.astype(np.float32)\n",
    "covF_ttest = covF_ttest.astype(np.float32)\n",
    "\n",
    "# Assignments for simplicity in further code\n",
    "ts_cov = ts_covF \n",
    "cov_t = covF_t \n",
    "cov_ttrain = covF_ttrain \n",
    "cov_ttest = covF_ttest\n"
   ]
  },
  {
   "cell_type": "code",
   "execution_count": 4,
   "id": "0ff49ada",
   "metadata": {},
   "outputs": [],
   "source": [
    "\n",
    "# Objective function for Optuna study\n",
    "def objective(trial):\n",
    "    # Hyperparameter space definition\n",
    "    in_len = trial.suggest_int(\"in_len\", 12, 36)\n",
    "    out_len = trial.suggest_int(\"out_len\", 1, 4)\n",
    "    hidden_size = trial.suggest_int(\"hidden_size\", 32, 128, 2)\n",
    "    lstm_layers = trial.suggest_int(\"lstm_layers\", 5, 8, 2)\n",
    "    att_h = trial.suggest_int(\"att_h\", 5, 8, 2)\n",
    "    dropout_val = trial.suggest_float(\"dropout_val\", 0.0, 0.4)\n",
    "    batch_sizes = trial.suggest_int(\"batch_sizes\", 8, 64, 8)\n",
    "    lr = trial.suggest_float(\"lr\", 5e-5, 1e-3, log=True)\n",
    "\n",
    "    # Callbacks for pruning and early stopping\n",
    "    pruner = PyTorchLightningPruningCallback(trial, monitor=\"val_loss\")\n",
    "    early_stopper = EarlyStopping(\"val_loss\", min_delta=0.001, patience=3, verbose=True)\n",
    "    callbacks = [pruner, early_stopper]\n",
    "    num_workers = 0\n",
    "    pl_trainer_kwargs = {\"accelerator\": \"auto\", \"callbacks\": callbacks}\n",
    "\n",
    "    # TFTModel initialization\n",
    "    model = TFTModel(   \n",
    "        input_chunk_length=in_len,\n",
    "        output_chunk_length=1,\n",
    "        hidden_size=HIDDEN,\n",
    "        lstm_layers=lstm_layers,\n",
    "        num_attention_heads=att_h,\n",
    "        dropout=dropout_val,\n",
    "        batch_size=batch_sizes, \n",
    "        n_epochs=35,                        \n",
    "        nr_epochs_val_period=VALWAIT, \n",
    "        likelihood=QuantileRegression(QUANTILES), \n",
    "        optimizer_kwargs={\"lr\": lr}, \n",
    "        model_name=\"TFT_Glucose_v2\",\n",
    "        log_tensorboard=True,\n",
    "        random_state=RAND,\n",
    "        force_reset=True,\n",
    "        save_checkpoints=True,\n",
    "        add_relative_index=True\n",
    "    )\n",
    "    # Model training\n",
    "    model.fit(  \n",
    "        series=ts_ttrain, \n",
    "        past_covariates=cov_t, \n",
    "        val_series=ts_ttest, \n",
    "        val_past_covariates=cov_t, \n",
    "        verbose=True\n",
    "    )\n",
    "    model = TFTModel.load_from_checkpoint(\"TFT_Glucose_v2\")\n",
    "    \n",
    "    # Prediction and evaluation\n",
    "    ts_tpred = model.predict(n=len(ts_ttest), num_samples=N_SAMPLES, verbose=True)\n",
    "    ts_tq = ts_tpred.quantile_timeseries(.5)\n",
    "    ts_q = scalerP.inverse_transform(ts_tq)\n",
    "    rmse_val = rmse(ts_q, ts_test)\n",
    "\n",
    "    return rmse_val if rmse_val != np.nan else float(\"inf\")\n"
   ]
  },
  {
   "cell_type": "code",
   "execution_count": 5,
   "id": "d33cce89",
   "metadata": {},
   "outputs": [],
   "source": [
    "\n",
    "# Callback function for study optimization\n",
    "def print_callback(study, trial):\n",
    "    print(f\"Current RMSE: {trial.value}, Current params: {trial.params}\")\n",
    "    print(f\"Best RMSE: {study.best_value}, Best params: {study.best_trial.params}\")\n",
    "\n"
   ]
  },
  {
   "cell_type": "code",
   "execution_count": null,
   "id": "ea057938",
   "metadata": {},
   "outputs": [
    {
     "data": {
      "application/vnd.jupyter.widget-view+json": {
       "model_id": "",
       "version_major": 2,
       "version_minor": 0
      },
      "text/plain": [
       "Sanity Checking: |          | 0/? [00:00<?, ?it/s]"
      ]
     },
     "metadata": {},
     "output_type": "display_data"
    },
    {
     "data": {
      "application/vnd.jupyter.widget-view+json": {
       "model_id": "bfb15e129bcb42558264ed5ff40df7f8",
       "version_major": 2,
       "version_minor": 0
      },
      "text/plain": [
       "Training: |          | 0/? [00:00<?, ?it/s]"
      ]
     },
     "metadata": {},
     "output_type": "display_data"
    },
    {
     "data": {
      "application/vnd.jupyter.widget-view+json": {
       "model_id": "",
       "version_major": 2,
       "version_minor": 0
      },
      "text/plain": [
       "Validation: |          | 0/? [00:00<?, ?it/s]"
      ]
     },
     "metadata": {},
     "output_type": "display_data"
    },
    {
     "data": {
      "application/vnd.jupyter.widget-view+json": {
       "model_id": "",
       "version_major": 2,
       "version_minor": 0
      },
      "text/plain": [
       "Validation: |          | 0/? [00:00<?, ?it/s]"
      ]
     },
     "metadata": {},
     "output_type": "display_data"
    },
    {
     "data": {
      "application/vnd.jupyter.widget-view+json": {
       "model_id": "",
       "version_major": 2,
       "version_minor": 0
      },
      "text/plain": [
       "Validation: |          | 0/? [00:00<?, ?it/s]"
      ]
     },
     "metadata": {},
     "output_type": "display_data"
    },
    {
     "data": {
      "application/vnd.jupyter.widget-view+json": {
       "model_id": "",
       "version_major": 2,
       "version_minor": 0
      },
      "text/plain": [
       "Validation: |          | 0/? [00:00<?, ?it/s]"
      ]
     },
     "metadata": {},
     "output_type": "display_data"
    },
    {
     "data": {
      "application/vnd.jupyter.widget-view+json": {
       "model_id": "",
       "version_major": 2,
       "version_minor": 0
      },
      "text/plain": [
       "Validation: |          | 0/? [00:00<?, ?it/s]"
      ]
     },
     "metadata": {},
     "output_type": "display_data"
    },
    {
     "data": {
      "application/vnd.jupyter.widget-view+json": {
       "model_id": "",
       "version_major": 2,
       "version_minor": 0
      },
      "text/plain": [
       "Validation: |          | 0/? [00:00<?, ?it/s]"
      ]
     },
     "metadata": {},
     "output_type": "display_data"
    },
    {
     "data": {
      "application/vnd.jupyter.widget-view+json": {
       "model_id": "",
       "version_major": 2,
       "version_minor": 0
      },
      "text/plain": [
       "Validation: |          | 0/? [00:00<?, ?it/s]"
      ]
     },
     "metadata": {},
     "output_type": "display_data"
    },
    {
     "data": {
      "application/vnd.jupyter.widget-view+json": {
       "model_id": "ef75a479123f42f891ee60855b069547",
       "version_major": 2,
       "version_minor": 0
      },
      "text/plain": [
       "Predicting: |          | 0/? [00:00<?, ?it/s]"
      ]
     },
     "metadata": {},
     "output_type": "display_data"
    }
   ],
   "source": [
    "# Optuna study creation and optimization\n",
    "study = optuna.create_study(direction=\"minimize\")\n",
    "study.optimize(objective, n_trials=10000, callbacks=[print_callback])"
   ]
  }
 ],
 "metadata": {
  "kernelspec": {
   "display_name": "Python 3 (ipykernel)",
   "language": "python",
   "name": "python3"
  },
  "language_info": {
   "codemirror_mode": {
    "name": "ipython",
    "version": 3
   },
   "file_extension": ".py",
   "mimetype": "text/x-python",
   "name": "python",
   "nbconvert_exporter": "python",
   "pygments_lexer": "ipython3",
   "version": "3.10.13"
  }
 },
 "nbformat": 4,
 "nbformat_minor": 5
}
